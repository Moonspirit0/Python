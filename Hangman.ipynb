{
  "metadata": {
    "language_info": {
      "codemirror_mode": {
        "name": "python",
        "version": 3
      },
      "file_extension": ".py",
      "mimetype": "text/x-python",
      "name": "python",
      "nbconvert_exporter": "python",
      "pygments_lexer": "ipython3",
      "version": "3.8"
    },
    "kernelspec": {
      "name": "python",
      "display_name": "Python (Pyodide)",
      "language": "python"
    }
  },
  "nbformat_minor": 4,
  "nbformat": 4,
  "cells": [
    {
      "cell_type": "code",
      "source": "from random import choice \nfrom IPython.display import clear_output\n\n#declare game variables \nwords = [\"tree\", \"basket\", \"chair\", \"paper\", \"python\"]\nword = choice(words) #randomly chooses a word from the list \nguessed, lives, game_over = [], 7, False #multi variable assignment\n\n#create a list of underscores to the length of the word\nguesses = [\"_\"] * len(word)\n\n#create main game loop \nwhile not game_over: \n    #output game information\n    hidden_word = \"\".join(guesses)\n    print(f\"Your guessed letters: {guessed}\")\n    print(f\"Word to guess: {hidden_word}\")\n    print(f\"Lives: {lives}\")\n          \n    ans = input(\"Type quit or a letter: \")\n    ans = ans.lower()\n    \n    clear_output() #clear all previous output\n    \n    if ans == \"quit\":\n        print(\"Thanks for playing.\") \n        game_over = True                           \n    elif ans in word and ans not in guess: #check if letter in word \n        print(\"You guessed the word correctly!\") \n        \n        #create a loop to change the underscore to proper letter\n        for i in range(len(word)): \n            if word[i] == ans: #compares values at indexes\n                guesses[i] = ans \n    elif ans in guessed: \n        print(\"You already guessed that. Try again.\")\n    else: \n        live -= 1 \n        print(\"Incorrect, you lost a life.\") \n    if ans not in guessed: \n        guessed_append(ans)\n    if lives <= 0:\n        print(\"You lost all your lives, you lose!\")\n        game_over = True \n    elif word == \"\".join(guesses): \n        print(\"Congrats! You guessed correctly!\") \n        game_over = True ",
      "metadata": {
        "trusted": true
      },
      "execution_count": 4,
      "outputs": [
        {
          "name": "stdout",
          "text": "Your guessed letters: []\nWord to guess: ______\nLives: 7\n",
          "output_type": "stream"
        },
        {
          "ename": "<class 'AttributeError'>",
          "evalue": "'PyodideFuture' object has no attribute 'lower'",
          "traceback": [
            "\u001b[0;31m---------------------------------------------------------------------------\u001b[0m",
            "\u001b[0;31mAttributeError\u001b[0m                            Traceback (most recent call last)",
            "Cell \u001b[0;32mIn[4], line 21\u001b[0m\n\u001b[1;32m     18\u001b[0m \u001b[38;5;28mprint\u001b[39m(\u001b[38;5;124mf\u001b[39m\u001b[38;5;124m\"\u001b[39m\u001b[38;5;124mLives: \u001b[39m\u001b[38;5;132;01m{\u001b[39;00mlives\u001b[38;5;132;01m}\u001b[39;00m\u001b[38;5;124m\"\u001b[39m)\n\u001b[1;32m     20\u001b[0m ans \u001b[38;5;241m=\u001b[39m \u001b[38;5;28minput\u001b[39m(\u001b[38;5;124m\"\u001b[39m\u001b[38;5;124mType quit or a letter: \u001b[39m\u001b[38;5;124m\"\u001b[39m)\n\u001b[0;32m---> 21\u001b[0m ans \u001b[38;5;241m=\u001b[39m \u001b[43mans\u001b[49m\u001b[38;5;241;43m.\u001b[39;49m\u001b[43mlower\u001b[49m()\n\u001b[1;32m     23\u001b[0m clear_output() \u001b[38;5;66;03m#clear all previous output\u001b[39;00m\n\u001b[1;32m     25\u001b[0m \u001b[38;5;28;01mif\u001b[39;00m ans \u001b[38;5;241m==\u001b[39m \u001b[38;5;124m\"\u001b[39m\u001b[38;5;124mquit\u001b[39m\u001b[38;5;124m\"\u001b[39m:\n",
            "\u001b[0;31mAttributeError\u001b[0m: 'PyodideFuture' object has no attribute 'lower'"
          ],
          "output_type": "error"
        }
      ]
    },
    {
      "cell_type": "code",
      "source": "",
      "metadata": {},
      "execution_count": null,
      "outputs": []
    }
  ]
}